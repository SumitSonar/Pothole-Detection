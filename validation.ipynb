{
  "nbformat": 4,
  "nbformat_minor": 0,
  "metadata": {
    "colab": {
      "provenance": [],
      "gpuType": "V28",
      "authorship_tag": "ABX9TyMFYCi908hJd3I/GWM/37eC",
      "include_colab_link": true
    },
    "kernelspec": {
      "name": "python3",
      "display_name": "Python 3"
    },
    "language_info": {
      "name": "python"
    },
    "accelerator": "TPU"
  },
  "cells": [
    {
      "cell_type": "markdown",
      "metadata": {
        "id": "view-in-github",
        "colab_type": "text"
      },
      "source": [
        "<a href=\"https://colab.research.google.com/github/SumitSonar/Pothole-Detection/blob/main/validation.ipynb\" target=\"_parent\"><img src=\"https://colab.research.google.com/assets/colab-badge.svg\" alt=\"Open In Colab\"/></a>"
      ]
    },
    {
      "cell_type": "code",
      "source": [
        "# Import necessary libraries\n",
        "import torch\n",
        "import torchvision.transforms as transforms\n",
        "from torchvision import models\n",
        "import os\n",
        "from PIL import Image\n",
        "\n",
        "# Mount Google Drive\n",
        "from google.colab import drive\n",
        "drive.mount('/content/drive')\n",
        "\n",
        "# Define paths\n",
        "model_path = '/content/drive/MyDrive/pothole_detection_model.pth'  # Change this path\n",
        "test_images_path = '/content/drive/MyDrive/sample'  # Change this path\n",
        "\n",
        "# Define the model architecture\n",
        "class PotholeDetector(torch.nn.Module):\n",
        "    def __init__(self):\n",
        "        super(PotholeDetector, self).__init__()\n",
        "        self.model = models.resnet18(pretrained=False)  # Change to the architecture you used\n",
        "        self.model.fc = torch.nn.Linear(self.model.fc.in_features, 2)  # Adjust to your number of classes\n",
        "\n",
        "    def forward(self, x):\n",
        "        return self.model(x)\n",
        "\n",
        "# Instantiate the model\n",
        "model = PotholeDetector()\n",
        "\n",
        "# Load the model weights with strict=False\n",
        "try:\n",
        "    model.load_state_dict(torch.load(model_path, map_location=torch.device('cpu')), strict=False)  # Load with strict=False\n",
        "    model.eval()  # Set the model to evaluation mode\n",
        "except RuntimeError as e:\n",
        "    print(f\"Error loading model weights: {e}\")\n",
        "\n",
        "# Define image transformations\n",
        "transform = transforms.Compose([\n",
        "    transforms.Resize((224, 224)),  # Resize to match model input size\n",
        "    transforms.ToTensor(),\n",
        "])\n",
        "\n",
        "# Function to evaluate the model on test images\n",
        "def evaluate_model(test_images_path):\n",
        "    correct = 0\n",
        "    total = 0\n",
        "    total_images = 0  # Total number of images in the validation set\n",
        "\n",
        "    # Loop through all images in the test directory\n",
        "    for filename in os.listdir(test_images_path):\n",
        "        if filename.endswith(('.png', '.jpg', '.jpeg')):  # Add more formats if needed\n",
        "            img_path = os.path.join(test_images_path, filename)\n",
        "            img = Image.open(img_path).convert('RGB')  # Open the image\n",
        "            img_tensor = transform(img).unsqueeze(0)  # Transform and add batch dimension\n",
        "\n",
        "            # Make prediction\n",
        "            with torch.no_grad():\n",
        "                outputs = model(img_tensor)\n",
        "                _, predicted = torch.max(outputs.data, 1)\n",
        "\n",
        "            # Check if the image has a pothole\n",
        "            if 'pothole' in filename:  # Change according to your labeling convention\n",
        "                pothole_count += 1\n",
        "\n",
        "            # Assuming the labels are in the filename: e.g., 'pothole_1.jpg', 'no_pothole_2.jpg'\n",
        "            label = 0 if 'pothole' in filename else 1  # Change according to your labeling convention\n",
        "\n",
        "            total += 1\n",
        "            correct += (predicted.item() == label)\n",
        "\n",
        "            total_images += 1  # Increment the total image count\n",
        "\n",
        "    accuracy = correct / total * 100 if total > 0 else 0\n",
        "    print(f'Accuracy of the model on test images: {accuracy:.2f}%')\n",
        "    print(f'Total images in validation set: {total_images}')\n",
        "\n",
        "# Run evaluation\n",
        "evaluate_model(test_images_path)"
      ],
      "metadata": {
        "colab": {
          "base_uri": "https://localhost:8080/"
        },
        "id": "09j8b3Ar_meV",
        "outputId": "3a85d175-8157-4813-ae79-93ff324aa38c"
      },
      "execution_count": 36,
      "outputs": [
        {
          "output_type": "stream",
          "name": "stdout",
          "text": [
            "Drive already mounted at /content/drive; to attempt to forcibly remount, call drive.mount(\"/content/drive\", force_remount=True).\n"
          ]
        },
        {
          "output_type": "stream",
          "name": "stderr",
          "text": [
            "<ipython-input-36-4ee658073b28>:31: FutureWarning: You are using `torch.load` with `weights_only=False` (the current default value), which uses the default pickle module implicitly. It is possible to construct malicious pickle data which will execute arbitrary code during unpickling (See https://github.com/pytorch/pytorch/blob/main/SECURITY.md#untrusted-models for more details). In a future release, the default value for `weights_only` will be flipped to `True`. This limits the functions that could be executed during unpickling. Arbitrary objects will no longer be allowed to be loaded via this mode unless they are explicitly allowlisted by the user via `torch.serialization.add_safe_globals`. We recommend you start setting `weights_only=True` for any use case where you don't have full control of the loaded file. Please open an issue on GitHub for any issues related to this experimental feature.\n",
            "  model.load_state_dict(torch.load(model_path, map_location=torch.device('cpu')), strict=False)  # Load with strict=False\n"
          ]
        },
        {
          "output_type": "stream",
          "name": "stdout",
          "text": [
            "Accuracy of the model on test images: 83.87%\n",
            "Total images in validation set: 31\n"
          ]
        }
      ]
    }
  ]
}